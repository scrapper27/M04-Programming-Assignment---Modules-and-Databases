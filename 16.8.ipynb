{
 "cells": [
  {
   "cell_type": "code",
   "execution_count": 20,
   "id": "fb84db87",
   "metadata": {},
   "outputs": [],
   "source": [
    "\n",
    "lines = [\n",
    "    \"author,book\",\n",
    "    \"J R R Tolkien,The Hobbit\",\n",
    "    'Lynne Truss,\"Eats, Shoots & Leaves\"'\n",
    "]\n",
    "\n",
    "with open('books.csv', 'w') as file:\n",
    "    for line in lines:\n",
    "        file.write(line + '\\n')\n"
   ]
  },
  {
   "cell_type": "code",
   "execution_count": 21,
   "id": "b8bf7154",
   "metadata": {},
   "outputs": [
    {
     "name": "stdout",
     "output_type": "stream",
     "text": [
      "[{'author': 'J R R Tolkien', 'book': 'The Hobbit'}, {'author': 'Lynne Truss', 'book': 'Eats, Shoots & Leaves'}]\n"
     ]
    }
   ],
   "source": [
    "import csv\n",
    "\n",
    "with open('books.csv', 'r') as file:\n",
    "    reader = csv.DictReader(file)\n",
    "    books = list(reader)\n",
    "\n",
    "print(books)\n"
   ]
  },
  {
   "cell_type": "code",
   "execution_count": 22,
   "id": "4966d99e",
   "metadata": {},
   "outputs": [],
   "source": [
    "lines = [\n",
    "    \"title,author,year\",\n",
    "    \"The Weirdstone of Brisingamen,Alan Garner,1960\",\n",
    "    \"Perdido Street Station,China Miéville,2000\",\n",
    "    \"Thud!,Terry Pratchett,2005\",\n",
    "    \"The Spellman Files,Lisa Lutz,2007\",\n",
    "    \"Small Gods,Terry Pratchett,1992\"\n",
    "]\n",
    "\n",
    "with open('books2.csv', 'w') as file:\n",
    "    for line in lines:\n",
    "        file.write(line + '\\n')\n"
   ]
  },
  {
   "cell_type": "code",
   "execution_count": 23,
   "id": "f73ddc70",
   "metadata": {},
   "outputs": [],
   "source": [
    "import sqlite3\n",
    "\n",
    "conn = sqlite3.connect('books.db')\n",
    "cursor = conn.cursor()\n",
    "\n",
    "cursor.execute('''\n",
    "    CREATE TABLE IF NOT EXISTS books (\n",
    "        title TEXT,\n",
    "        author TEXT,\n",
    "        year INTEGER\n",
    "    )\n",
    "''')\n",
    "\n",
    "conn.commit()\n",
    "conn.close()\n"
   ]
  },
  {
   "cell_type": "code",
   "execution_count": 24,
   "id": "118fc45b",
   "metadata": {},
   "outputs": [],
   "source": [
    "\n",
    "with open('books2.csv', 'r') as file:\n",
    "    csv_reader = csv.reader(file)\n",
    "    next(csv_reader)  # skip the header\n",
    "    for row in csv_reader:\n",
    "        conn = sqlite3.connect('books.db')\n",
    "        cursor = conn.cursor()\n",
    "        cursor.execute('INSERT INTO books VALUES (?, ?, ?)', (row[0], row[1], int(row[2])))\n",
    "        conn.commit()\n",
    "        conn.close()\n"
   ]
  },
  {
   "cell_type": "code",
   "execution_count": 25,
   "id": "1a9839a0",
   "metadata": {},
   "outputs": [
    {
     "name": "stdout",
     "output_type": "stream",
     "text": [
      "[('Perdido Street Station',), ('Perdido Street Station',), ('Small Gods',), ('Small Gods',), ('The Spellman Files',), ('The Spellman Files',), ('The Weirdstone of Brisingamen',), ('The Weirdstone of Brisingamen',), ('Thud!',), ('Thud!',)]\n"
     ]
    }
   ],
   "source": [
    "conn = sqlite3.connect('books.db')\n",
    "cursor = conn.cursor()\n",
    "cursor.execute('SELECT title FROM books ORDER BY title')\n",
    "titles = cursor.fetchall()\n",
    "conn.close()\n",
    "\n",
    "print(titles)"
   ]
  },
  {
   "cell_type": "code",
   "execution_count": 26,
   "id": "735f361a",
   "metadata": {},
   "outputs": [
    {
     "name": "stdout",
     "output_type": "stream",
     "text": [
      "[('The Weirdstone of Brisingamen', 'Alan Garner', 1960), ('The Weirdstone of Brisingamen', 'Alan Garner', 1960), ('Small Gods', 'Terry Pratchett', 1992), ('Small Gods', 'Terry Pratchett', 1992), ('Perdido Street Station', 'China Miéville', 2000), ('Perdido Street Station', 'China Miéville', 2000), ('Thud!', 'Terry Pratchett', 2005), ('Thud!', 'Terry Pratchett', 2005), ('The Spellman Files', 'Lisa Lutz', 2007), ('The Spellman Files', 'Lisa Lutz', 2007)]\n"
     ]
    }
   ],
   "source": [
    "# Select and print all columns from the book table in order of publication.\n",
    "\n",
    "conn = sqlite3.connect('books.db')\n",
    "cursor = conn.cursor()\n",
    "cursor.execute('SELECT * FROM books ORDER BY year')\n",
    "all_columns = cursor.fetchall()\n",
    "conn.close()\n",
    "\n",
    "print(all_columns)\n"
   ]
  },
  {
   "cell_type": "code",
   "execution_count": 19,
   "id": "9fe4b6ed",
   "metadata": {},
   "outputs": [
    {
     "name": "stdout",
     "output_type": "stream",
     "text": [
      "2023-11-17 23:10:54,488 INFO sqlalchemy.engine.Engine PRAGMA main.table_xinfo(\"books\")\n",
      "2023-11-17 23:10:54,488 INFO sqlalchemy.engine.Engine [raw sql] ()\n",
      "2023-11-17 23:10:54,490 INFO sqlalchemy.engine.Engine SELECT sql FROM  (SELECT * FROM sqlite_master UNION ALL   SELECT * FROM sqlite_temp_master) WHERE name = ? AND type = 'table'\n",
      "2023-11-17 23:10:54,490 INFO sqlalchemy.engine.Engine [raw sql] ('books',)\n",
      "2023-11-17 23:10:54,491 INFO sqlalchemy.engine.Engine PRAGMA main.foreign_key_list(\"books\")\n",
      "2023-11-17 23:10:54,492 INFO sqlalchemy.engine.Engine [raw sql] ()\n",
      "2023-11-17 23:10:54,492 INFO sqlalchemy.engine.Engine PRAGMA temp.foreign_key_list(\"books\")\n",
      "2023-11-17 23:10:54,493 INFO sqlalchemy.engine.Engine [raw sql] ()\n",
      "2023-11-17 23:10:54,493 INFO sqlalchemy.engine.Engine SELECT sql FROM  (SELECT * FROM sqlite_master UNION ALL   SELECT * FROM sqlite_temp_master) WHERE name = ? AND type = 'table'\n",
      "2023-11-17 23:10:54,494 INFO sqlalchemy.engine.Engine [raw sql] ('books',)\n",
      "2023-11-17 23:10:54,494 INFO sqlalchemy.engine.Engine PRAGMA main.index_list(\"books\")\n",
      "2023-11-17 23:10:54,495 INFO sqlalchemy.engine.Engine [raw sql] ()\n",
      "2023-11-17 23:10:54,495 INFO sqlalchemy.engine.Engine PRAGMA temp.index_list(\"books\")\n",
      "2023-11-17 23:10:54,495 INFO sqlalchemy.engine.Engine [raw sql] ()\n",
      "2023-11-17 23:10:54,496 INFO sqlalchemy.engine.Engine PRAGMA main.index_list(\"books\")\n",
      "2023-11-17 23:10:54,496 INFO sqlalchemy.engine.Engine [raw sql] ()\n",
      "2023-11-17 23:10:54,496 INFO sqlalchemy.engine.Engine PRAGMA temp.index_list(\"books\")\n",
      "2023-11-17 23:10:54,497 INFO sqlalchemy.engine.Engine [raw sql] ()\n",
      "2023-11-17 23:10:54,497 INFO sqlalchemy.engine.Engine SELECT sql FROM  (SELECT * FROM sqlite_master UNION ALL   SELECT * FROM sqlite_temp_master) WHERE name = ? AND type = 'table'\n",
      "2023-11-17 23:10:54,497 INFO sqlalchemy.engine.Engine [raw sql] ('books',)\n",
      "2023-11-17 23:10:54,499 INFO sqlalchemy.engine.Engine SELECT books.title \n",
      "FROM books ORDER BY books.title\n",
      "2023-11-17 23:10:54,499 INFO sqlalchemy.engine.Engine [generated in 0.00041s] ()\n",
      "Perdido Street Station\n",
      "Small Gods\n",
      "The Spellman Files\n",
      "The Weirdstone of Brisingamen\n",
      "Thud!\n"
     ]
    }
   ],
   "source": [
    "from sqlalchemy import create_engine, select, MetaData, Table\n",
    "\n",
    "engine = create_engine('sqlite:///books.db', echo=True)\n",
    "metadata = MetaData()\n",
    "books = Table('books', metadata, autoload_with=engine)\n",
    "\n",
    "with engine.connect() as connection:\n",
    "    stmt = select([books.columns.title]).order_by(books.columns.title)\n",
    "    results = connection.execute(stmt).fetchall()\n",
    "\n",
    "    for title in results:\n",
    "        print(title[0])\n"
   ]
  },
  {
   "cell_type": "code",
   "execution_count": null,
   "id": "61fb1a62",
   "metadata": {},
   "outputs": [],
   "source": []
  }
 ],
 "metadata": {
  "kernelspec": {
   "display_name": "Python 3 (ipykernel)",
   "language": "python",
   "name": "python3"
  },
  "language_info": {
   "codemirror_mode": {
    "name": "ipython",
    "version": 3
   },
   "file_extension": ".py",
   "mimetype": "text/x-python",
   "name": "python",
   "nbconvert_exporter": "python",
   "pygments_lexer": "ipython3",
   "version": "3.11.5"
  }
 },
 "nbformat": 4,
 "nbformat_minor": 5
}
